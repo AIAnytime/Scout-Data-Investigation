{
 "cells": [
  {
   "cell_type": "markdown",
   "metadata": {},
   "source": [
    "# Scout Overview\n",
    "\n",
    "\n",
    "One of Soroco's products (called \"Scout\") collects and analyzes hundreds of millions of data points.\n",
    "\n",
    "Every data point represents an interaction between the user and a business application.  That interaction will either be a click or a keystroke inside an **application** (like VS Code), inside a **screen** inside the application (like \"Settings\"), and on an **element** (like \"Search Settings\").  An application has many screens, and inside a screen there are many elements.\n",
    "\n",
    "<img src=\"vscode-app-screen-element.png\" width=\"700\" align=\"center\"/>\n",
    "\n",
    "If the user were to click on the \"Search Settings\" search box, the Scout event would look something like:\n",
    "\n",
    "```\n",
    "{\n",
    "   'Action': 'Click',\n",
    "   'Application': 'VS Code',\n",
    "   'Screen': 'Settings',\n",
    "   'Element': 'Search Settings',\n",
    "   'Element Type': 'Textbox'\n",
    "}\n",
    "```\n",
    "\n",
    "For this exercise, this is all you should need to know about Scout and how it works!"
   ]
  },
  {
   "cell_type": "markdown",
   "metadata": {},
   "source": [
    "# Scout Data Investigation Challenge\n",
    "\n",
    "You're an engineer working on the Scout product, and you find something interesting about a data set you are working with. You focus only on the \"Screen\" field in the data set, and notice there are 1880 unique screens for a single application.\n",
    "\n",
    "The code that you used to determine that is below..."
   ]
  },
  {
   "cell_type": "code",
   "execution_count": 9,
   "metadata": {},
   "outputs": [
    {
     "name": "stdout",
     "output_type": "stream",
     "text": [
      "Unique screens: 1880\n"
     ]
    }
   ],
   "source": [
    "from pandas import pandas as pd\n",
    "\n",
    "# Read the data set from a pickle file, which only has 1 field called \"screen\" which is the name of the screen\n",
    "# that the event happened in.\n",
    "screen_sequences = pd.read_pickle(\"screen_sequences.pickle\")\n",
    "\n",
    "# Output the number of unique screens from the data set\n",
    "print(\"Unique screens: {}\".format(screen_sequences.nunique()[0]))"
   ]
  },
  {
   "cell_type": "markdown",
   "metadata": {},
   "source": [
    "#### 1880 unique screens is suspicious to you...\n",
    "\n",
    "Your data science instinct is that 1880 unique screens for a single application is too high.  Imagine if VS Code had 1880 unique screens in it... that wouldn't seem right.  VS Code, as an example, at most probably has \"tens of screens\", and a complex business application probably at most has a \"few hundred\" screens.\n",
    "\n",
    "There is likely something about the screens (which are just string representations of their title, like \"Settings\") that is giving the impression that there are far more screens than there likely really are.  \n",
    "\n",
    "We would love to give you some hints as to why that might be, but this is all part of your investigation!"
   ]
  },
  {
   "cell_type": "markdown",
   "metadata": {},
   "source": [
    "#### Start your investigation by looking at the top 10 screens by frequency\n",
    "\n",
    "To begin your investigation, in the cell below add code that outputs the top 10 screen titles by their frequency in the data.  Since each entry in the data set represents an action on that screen, if a screen shows up 1000 times in the data, that means it was interacted with 1000 times... and therefore its frequency is 1000 in the data set."
   ]
  },
  {
   "cell_type": "code",
   "execution_count": 15,
   "metadata": {},
   "outputs": [],
   "source": [
    "# [Candidate TODO] Add code here to output the top 10 screens by frequency, and their exact frequency in the data set..."
   ]
  },
  {
   "cell_type": "markdown",
   "metadata": {},
   "source": [
    "You are also curious what the bottom 50 screens look like by frequency, so you want to output those as part of your investigation as well..."
   ]
  },
  {
   "cell_type": "code",
   "execution_count": 13,
   "metadata": {},
   "outputs": [],
   "source": [
    "# [Candidate TODO] Add code here to output the bottom 50 screens by frequency, and their exact frequency in the data set..."
   ]
  },
  {
   "cell_type": "markdown",
   "metadata": {},
   "source": [
    "To get an even better understanding, you want to output 50 random screens in the data set, so do that below!"
   ]
  },
  {
   "cell_type": "code",
   "execution_count": 14,
   "metadata": {},
   "outputs": [],
   "source": [
    "# [Candidate TODO] Add code here to output 50 random screens from the data set"
   ]
  },
  {
   "cell_type": "markdown",
   "metadata": {},
   "source": [
    "To finish your investigation, you want to get an idea of the entire \"distribution\" of frequencies.  Remember, for every screen (by now) you should have computed the its frequency (number of times it occurred in the data set).  But now you want to know, for all screens what are all of the frequencies as sort of a summary graph.  Imagine putting all of those frequencies into an array, and wanting to study the distribution in that array.  Produce any visualization you want (e.g., using 'matplotlib') that would give a summary of all of the frequencies."
   ]
  },
  {
   "cell_type": "code",
   "execution_count": 19,
   "metadata": {},
   "outputs": [],
   "source": [
    "# [Candidate TODO] Add code here that provides a summary of all of the frequencies"
   ]
  },
  {
   "cell_type": "markdown",
   "metadata": {},
   "source": [
    "Any more investigation you may want to do, put here!"
   ]
  },
  {
   "cell_type": "markdown",
   "metadata": {},
   "source": [
    "# Actioning Your Investigation\n",
    "\n",
    "From the investigation that you have done, you should (hopefully!) have found some interesting things about the actual text in the screen titles that may be leading to 1880 \"unique\" screens, when in fact there are probably a far smaller number of actual screens (a few hundred).\n",
    "\n",
    "What you want to do now is to \"remap\" existing titles into new titles, almost like clustering titles together that you believe are actually the same despite having different text that represents them.  This would be like creating a mapping, where you remap the screen from its original title to potentially a new title.\n",
    "\n",
    "You will create a `screen_map` which is just a dictionary where there is a key for **every** original screen title, and its value is a new screen title that is modified to address what you think is leading to more unique screens than there probably are.  \n",
    "\n",
    "Imagine that the original data set had screen titles `A`, `B`, `C`, and `D` that based on your investigation you believe should be modified such that only 3 unique screens exist: `A` is unique and your investigation says it should not change, `B` and `C` are likely the same screen and should be modified to represent that, and `D` should also remain unchanged. Then you will in a provided `screen_map` variable as follows:\n",
    "\n",
    "```\n",
    "screen_map = {\n",
    "  'A': 'A',   # Screen A stays as screen A\n",
    "  'B': 'B1',  # Screen B maps to a new screen title Modified1\n",
    "  'C': 'B1',  # Screen C maps to a new screen titled Modified1\n",
    "  'D': 'D',   # Screen D stays as screen D\n",
    "}\n",
    "```\n",
    "\n",
    "The number of keys in the `screen_map` should always be the number of original screens (e.g., 4 in the example `screen_map` and 1880 in the original data set). The number of unique values in the `screen_map` will be your new number of unique screens (e.g., 3 in the example `screen_map`, and **your TODO** of the \"Actioning Your Investigation\")."
   ]
  },
  {
   "cell_type": "markdown",
   "metadata": {},
   "source": [
    "#### Imports"
   ]
  },
  {
   "cell_type": "code",
   "execution_count": 20,
   "metadata": {},
   "outputs": [],
   "source": [
    "import json\n",
    "from collections import Counter"
   ]
  },
  {
   "cell_type": "markdown",
   "metadata": {},
   "source": [
    "#### Action your investigation by creaing your intelligent \"screen_map\"\n",
    "\n",
    "Below you should now put any code you want to action your investigation and reduce the number of unique screens by creating the screen map.  We initialize it such that every screen maps exactly to itself (so the number of unique keys will be 1880 and the number of unique values are 1880).  But your investigation should have given you ideas on how to reduce the number of unique screens to hundreds instead of 1880."
   ]
  },
  {
   "cell_type": "code",
   "execution_count": 21,
   "metadata": {},
   "outputs": [],
   "source": [
    "# DO NOT MODIFY THIS CELL.\n",
    "# Create the initial 1-to-1 mapping\n",
    "screen_map = {}\n",
    "for screen in screen_sequences['screen'].values:\n",
    "    screen_map[screen] = screen"
   ]
  },
  {
   "cell_type": "code",
   "execution_count": 22,
   "metadata": {},
   "outputs": [],
   "source": [
    "# [Candidate TODO] Modify the values in the `screen_map` variable in an intelligent way based on your investigation, which\n",
    "#                  should lead to a smaller number of unique values."
   ]
  },
  {
   "cell_type": "markdown",
   "metadata": {},
   "source": [
    "#### See how many unique screens you have in your solution"
   ]
  },
  {
   "cell_type": "code",
   "execution_count": 27,
   "metadata": {},
   "outputs": [
    {
     "name": "stdout",
     "output_type": "stream",
     "text": [
      "Unique screen values left: 1880\n"
     ]
    }
   ],
   "source": [
    "# DO NOT MODIFY THIS CELL.\n",
    "new_unique_screens = set(screen_map.values())\n",
    "print(\"Unique screen values left: {}\".format(len(new_unique_screens)))"
   ]
  },
  {
   "cell_type": "markdown",
   "metadata": {},
   "source": [
    "# Write Solution to Disk\n",
    "\n",
    "When submitting your assessment, please provide your modified Jupyter notebook and `screen_map.json`"
   ]
  },
  {
   "cell_type": "code",
   "execution_count": 35,
   "metadata": {
    "scrolled": true
   },
   "outputs": [],
   "source": [
    "with open(\"screen_map.json\", \"w\") as fd:\n",
    "    fd.write(json.dumps(screen_map))"
   ]
  }
 ],
 "metadata": {
  "kernelspec": {
   "display_name": "Python 3.6.9 64-bit ('.venv': venv)",
   "language": "python",
   "name": "python36964bitvenvvenv0f8d930745c7406a9d7405339b66cb3e"
  },
  "language_info": {
   "codemirror_mode": {
    "name": "ipython",
    "version": 3
   },
   "file_extension": ".py",
   "mimetype": "text/x-python",
   "name": "python",
   "nbconvert_exporter": "python",
   "pygments_lexer": "ipython3",
   "version": "3.7.9"
  }
 },
 "nbformat": 4,
 "nbformat_minor": 4
}
