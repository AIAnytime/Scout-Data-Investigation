{
  "nbformat": 4,
  "nbformat_minor": 0,
  "metadata": {
    "colab": {
      "name": "Scout Data Investigation and Solution.ipynb",
      "provenance": []
    },
    "kernelspec": {
      "name": "python3",
      "display_name": "Python 3"
    },
    "accelerator": "GPU"
  },
  "cells": [
    {
      "cell_type": "code",
      "metadata": {
        "colab": {
          "base_uri": "https://localhost:8080/"
        },
        "id": "L1nj6Ay6BDGM",
        "outputId": "6b71d3b3-1623-4276-f697-01a725b709e9"
      },
      "source": [
        "#importing pickle and load the pickle file\r\n",
        "import pickle\r\n",
        "\r\n",
        "with open('drive/My Drive/soroco/screen_sequences.pickle', 'rb') as f:\r\n",
        "    dest_object_name = pickle.load(f)\r\n",
        "    print(dest_object_name)"
      ],
      "execution_count": null,
      "outputs": [
        {
          "output_type": "stream",
          "text": [
            "                                               screen\n",
            "0                               Paramagnetic Myia 988\n",
            "1                 Paramagnetic AOJ Brings Fantasy 988\n",
            "2                               Paramagnetic Myia 988\n",
            "3                  Paramagnetic Explosive Ultraviolet\n",
            "4                  Paramagnetic Explosive Ultraviolet\n",
            "...                                               ...\n",
            "92988  Industrial Retail F Democratic Piled Executive\n",
            "92989  Industrial Retail F Democratic Piled Executive\n",
            "92990               Industrial Retail F Closing Speed\n",
            "92991             Paramagnetic AOJ Brings Fantasy 988\n",
            "92992             Paramagnetic AOJ Brings Fantasy 988\n",
            "\n",
            "[92993 rows x 1 columns]\n"
          ],
          "name": "stdout"
        }
      ]
    },
    {
      "cell_type": "code",
      "metadata": {
        "id": "ndGOaCb9B1Ca"
      },
      "source": [
        "#import pandas\r\n",
        "import pandas as pd\r\n",
        "#unpickling and convert to csv and save\r\n",
        "unpickled_df = pd.read_pickle(\"drive/My Drive/soroco/screen_sequences.pickle\")\r\n",
        "\r\n",
        "unpickled_df.to_csv('screen_sequences.csv') "
      ],
      "execution_count": null,
      "outputs": []
    },
    {
      "cell_type": "code",
      "metadata": {
        "colab": {
          "base_uri": "https://localhost:8080/"
        },
        "id": "Kp12Xu7xM1M5",
        "outputId": "85277103-0674-4f88-9745-6747771f610b"
      },
      "source": [
        "# show data type\r\n",
        "unpickled_df.dtypes"
      ],
      "execution_count": null,
      "outputs": [
        {
          "output_type": "execute_result",
          "data": {
            "text/plain": [
              "screen    object\n",
              "dtype: object"
            ]
          },
          "metadata": {
            "tags": []
          },
          "execution_count": 87
        }
      ]
    },
    {
      "cell_type": "code",
      "metadata": {
        "colab": {
          "base_uri": "https://localhost:8080/"
        },
        "id": "Qkbk_SW-Cvlq",
        "outputId": "9f58835a-5139-4f3a-b370-724a541ba136"
      },
      "source": [
        "#count the frequency of each screen in a order same as the data given\r\n",
        "frequency_list = unpickled_df.pivot_table(index=['screen'], aggfunc='size')\r\n",
        "print (frequency_list)"
      ],
      "execution_count": null,
      "outputs": [
        {
          "output_type": "stream",
          "text": [
            "screen\n",
            "49 Athletic Loses Evil Madison Furniture Dark Brodie .                         1\n",
            "69 Accommodations Competitors Coordination Followed Furniture Dark Brodie .    2\n",
            "Advocate                                                                       1\n",
            "Agree ( 2 ) 4 Approached Brodie                                                1\n",
            "Agree ( 2 ) 9 Approached Brodie                                                1\n",
            "                                                                              ..\n",
            "Worn Asserted 730702248 Beliefs F Retail                                       2\n",
            "Worn Asserted 936117705 Satisfactory F Retail                                  1\n",
            "Worn Somebody Phenomenon F Mice Spite                                          2\n",
            "ZGH Conversation ( Lists Supplies ) 1755 Approached                            3\n",
            "ZGH Walks ( 4 ) 81 Approached Brodie                                           2\n",
            "Length: 1880, dtype: int64\n"
          ],
          "name": "stdout"
        }
      ]
    },
    {
      "cell_type": "code",
      "metadata": {
        "colab": {
          "base_uri": "https://localhost:8080/"
        },
        "id": "BTWWl4NQFGhQ",
        "outputId": "438ce927-6595-4393-8aea-f406d7e51e36"
      },
      "source": [
        "#count the frequency of each screen in a order same as the data given\r\n",
        "unpickled_df.groupby('screen').screen.count()"
      ],
      "execution_count": null,
      "outputs": [
        {
          "output_type": "execute_result",
          "data": {
            "text/plain": [
              "screen\n",
              "49 Athletic Loses Evil Madison Furniture Dark Brodie .                         1\n",
              "69 Accommodations Competitors Coordination Followed Furniture Dark Brodie .    2\n",
              "Advocate                                                                       1\n",
              "Agree ( 2 ) 4 Approached Brodie                                                1\n",
              "Agree ( 2 ) 9 Approached Brodie                                                1\n",
              "                                                                              ..\n",
              "Worn Asserted 730702248 Beliefs F Retail                                       2\n",
              "Worn Asserted 936117705 Satisfactory F Retail                                  1\n",
              "Worn Somebody Phenomenon F Mice Spite                                          2\n",
              "ZGH Conversation ( Lists Supplies ) 1755 Approached                            3\n",
              "ZGH Walks ( 4 ) 81 Approached Brodie                                           2\n",
              "Name: screen, Length: 1880, dtype: int64"
            ]
          },
          "metadata": {
            "tags": []
          },
          "execution_count": 89
        }
      ]
    },
    {
      "cell_type": "code",
      "metadata": {
        "id": "5jsY083FFjGc"
      },
      "source": [
        "#count the frequency of each screen in ascending \r\n",
        "asc_frequency_list = unpickled_df.value_counts()"
      ],
      "execution_count": null,
      "outputs": []
    },
    {
      "cell_type": "code",
      "metadata": {
        "colab": {
          "base_uri": "https://localhost:8080/"
        },
        "id": "guMJ5QxMGclz",
        "outputId": "c9644fb0-a5b9-44e2-c7b2-f072cc48c35e"
      },
      "source": [
        "# print top 10 frequency\r\n",
        "asc_frequency_list.head(10)"
      ],
      "execution_count": null,
      "outputs": [
        {
          "output_type": "execute_result",
          "data": {
            "text/plain": [
              "screen                                                                   \n",
              "Recognizes Picnic F E Hull S Shalyn ICBPBSCNJI Charged VUW World SVMKHGQC    14475\n",
              "Drew Whip Flood                                                               8434\n",
              "Industrial Retail F Closing Speed                                             6373\n",
              "Paramagnetic Explosive Ultraviolet                                            5298\n",
              "Physical                                                                      4625\n",
              "Restraint Blocks                                                              4403\n",
              "Entertaining Skirt Moscow                                                     2092\n",
              "Succession Coexistence Earnestly Flood Made F Intentions End                  1739\n",
              "Ladies Cars                                                                   1735\n",
              "Industrial Retail F Democratic Piled Executive                                1691\n",
              "dtype: int64"
            ]
          },
          "metadata": {
            "tags": []
          },
          "execution_count": 91
        }
      ]
    },
    {
      "cell_type": "code",
      "metadata": {
        "id": "eqxGnPyZGwv-"
      },
      "source": [
        "#save the top 10 frequency with their title\r\n",
        "asc_frequency_list.head(10).to_csv('top_ten_frequency.csv')"
      ],
      "execution_count": null,
      "outputs": []
    },
    {
      "cell_type": "code",
      "metadata": {
        "colab": {
          "base_uri": "https://localhost:8080/"
        },
        "id": "oj1aRWxeHy4O",
        "outputId": "ff5081d5-ab6d-4b13-b183-1c592e6400db"
      },
      "source": [
        "# print bottom 50 frequency\r\n",
        "max_frequency_list.tail(50)"
      ],
      "execution_count": null,
      "outputs": [
        {
          "output_type": "execute_result",
          "data": {
            "text/plain": [
              "screen                                                                       \n",
              "Instantly Earnest Brings Garden                                                  1\n",
              "Industrial Stereo Zacary . 9543008041 Rights Onto Langdon Jema                   1\n",
              "Industrial Stereo Zacary . 9540193458 Rights Onto Johnnylee Hollie               1\n",
              "Industrial Stereo Zacary . 9381280179 Rights Onto Charron Fielding               1\n",
              "Industrial Stereo Zacary . 9368901387 Rights Onto Takela Sinister                1\n",
              "Beliefs Earnestly Flood F Tradition A Current Eye                                1\n",
              "Beliefs Earnestly Flood F Tradition A Intentions Feathers                        1\n",
              "Industrial Stereo Zacary . 9336938961 Rights Onto Addy Distinguished             1\n",
              "Beliefs Earnestly Flood F Tradition A Reduced                                    1\n",
              "Beliefs Earnestly Flood F Tradition A Regularly Eye                              1\n",
              "Industrial Stereo Zacary . 9281348431 Rights Onto Addy Distinguished             1\n",
              "Beliefs Earnestly Flood F Tradition A Spite Eye                                  1\n",
              "Industrial Stereo Zacary . 5260007568 Rights Onto Johnnylee Hollie               1\n",
              "Industrial Stereo Zacary . 5037952013 Rights Onto KAQ Electoral ( Yoss ) LJLV    1\n",
              "Beliefs Saxon 61630349 Brings Agree DFQF                                         1\n",
              "Industrial Stereo Zacary . 4736377118 Rights Onto Takela Sinister                1\n",
              "Industrial Stereo Zacary . 2030772422 Rights Onto Takela Sinister                1\n",
              "Industrial Stereo Zacary . 1771979674 Rights Onto KAQ Electoral ( Yoss ) LJLV    1\n",
              "Industrial Stereo Zacary . 1659393981 Rights Onto Johnnylee Hollie               1\n",
              "Formulated Whip Flood 3578902363 Wales 49                                        1\n",
              "Focused Life ( 9 ) 360 Approached Brodie                                         1\n",
              "Beliefs Whip Leg . 2972360893                                                    1\n",
              "Beliefs Whip Leg . 3060396883                                                    1\n",
              "Financial . Workable 967 Approached                                              1\n",
              "Financial . Workable 584 Approached                                              1\n",
              "Beliefs Whip Leg . 3443515189                                                    1\n",
              "Beliefs Whip Leg . 3912246945                                                    1\n",
              "Beliefs Whip Leg . 4160782204                                                    1\n",
              "Fats Whether                                                                     1\n",
              "Fats School                                                                      1\n",
              "Fats                                                                             1\n",
              "Industrial Stereo Zacary . 2368580269 Rights Onto Langdon Jema                   1\n",
              "Industrial Stereo Zacary . 2439938998 Rights Onto Takela Sinister                1\n",
              "Industrial Stereo Zacary . 2448267660 Rights Onto Langdon Jema                   1\n",
              "Industrial Stereo Zacary . 3708705718 Rights Onto Charron Fielding               1\n",
              "Industrial Stereo Zacary . 4683176599 Rights Onto Charron Fielding               1\n",
              "Industrial Stereo Zacary . 4435529946 Rights Onto KAQ Electoral ( Yoss ) LJLV    1\n",
              "Industrial Stereo Zacary . 4327819497 Rights Onto Charron Fielding               1\n",
              "Industrial Stereo Zacary . 4289089709 Rights Onto Takela Sinister                1\n",
              "Beliefs Whip Leg . 0056043031                                                    1\n",
              "Industrial Stereo Zacary . 3713990966 Rights Onto Charron Fielding               1\n",
              "Industrial Stereo Zacary . 3440623563 Rights Onto Langdon Jema                   1\n",
              "Industrial Stereo Zacary . 2604379325 Rights Onto KAQ Electoral ( Yoss ) LJLV    1\n",
              "Beliefs Whip Leg . 0753732659                                                    1\n",
              "Industrial Stereo Zacary . 3360884602 Rights Onto Takela Sinister                1\n",
              "Industrial Stereo Zacary . 3256583108 Rights Onto Langdon Jema                   1\n",
              "Industrial Stereo Zacary . 3134833815 Rights Onto Takela Sinister                1\n",
              "Industrial Stereo Zacary . 3055888846 Rights Onto Takela Sinister                1\n",
              "Industrial Stereo Zacary . 2690531937 Rights Onto Langdon Jema                   1\n",
              "49 Athletic Loses Evil Madison Furniture Dark Brodie .                           1\n",
              "dtype: int64"
            ]
          },
          "metadata": {
            "tags": []
          },
          "execution_count": 93
        }
      ]
    },
    {
      "cell_type": "code",
      "metadata": {
        "id": "q0H-1B22H2Yl"
      },
      "source": [
        "#save the bottom 50 frequency with their title\r\n",
        "max_frequency_list.tail(50).to_csv('bottom_fifty_frequency.csv')"
      ],
      "execution_count": null,
      "outputs": []
    },
    {
      "cell_type": "code",
      "metadata": {
        "id": "KECRUOazIAyu"
      },
      "source": [
        "# random 50 screens\r\n",
        "random_df = unpickled_df.sample(n=50)"
      ],
      "execution_count": null,
      "outputs": []
    },
    {
      "cell_type": "code",
      "metadata": {
        "colab": {
          "base_uri": "https://localhost:8080/",
          "height": 1000
        },
        "id": "PCFSyxdRJiWc",
        "outputId": "9448eeb4-c43b-4691-f8e1-0d6cf76abb65"
      },
      "source": [
        "# print random 50 screens with their title\r\n",
        "random_df"
      ],
      "execution_count": null,
      "outputs": [
        {
          "output_type": "execute_result",
          "data": {
            "text/html": [
              "<div>\n",
              "<style scoped>\n",
              "    .dataframe tbody tr th:only-of-type {\n",
              "        vertical-align: middle;\n",
              "    }\n",
              "\n",
              "    .dataframe tbody tr th {\n",
              "        vertical-align: top;\n",
              "    }\n",
              "\n",
              "    .dataframe thead th {\n",
              "        text-align: right;\n",
              "    }\n",
              "</style>\n",
              "<table border=\"1\" class=\"dataframe\">\n",
              "  <thead>\n",
              "    <tr style=\"text-align: right;\">\n",
              "      <th></th>\n",
              "      <th>screen</th>\n",
              "    </tr>\n",
              "  </thead>\n",
              "  <tbody>\n",
              "    <tr>\n",
              "      <th>25730</th>\n",
              "      <td>Recognizes Picnic F E Hull S Shalyn ICBPBSCNJI...</td>\n",
              "    </tr>\n",
              "    <tr>\n",
              "      <th>86311</th>\n",
              "      <td>Paramagnetic Explosive Ultraviolet</td>\n",
              "    </tr>\n",
              "    <tr>\n",
              "      <th>67893</th>\n",
              "      <td>Paramagnetic Explosive Ultraviolet</td>\n",
              "    </tr>\n",
              "    <tr>\n",
              "      <th>11087</th>\n",
              "      <td>Drew Whip Flood</td>\n",
              "    </tr>\n",
              "    <tr>\n",
              "      <th>10707</th>\n",
              "      <td>Recognizes Picnic F E Hull S Shalyn ICBPBSCNJI...</td>\n",
              "    </tr>\n",
              "    <tr>\n",
              "      <th>62206</th>\n",
              "      <td>Industrial Retail F Closing Speed</td>\n",
              "    </tr>\n",
              "    <tr>\n",
              "      <th>65557</th>\n",
              "      <td>Satisfactory Creating ( Gain Camera )</td>\n",
              "    </tr>\n",
              "    <tr>\n",
              "      <th>70431</th>\n",
              "      <td>Industrial Retail F Closing Speed</td>\n",
              "    </tr>\n",
              "    <tr>\n",
              "      <th>50203</th>\n",
              "      <td>Criticism Illustration Speed F Retail Camera</td>\n",
              "    </tr>\n",
              "    <tr>\n",
              "      <th>58142</th>\n",
              "      <td>Recognizes Picnic F E Hull S Shalyn ICBPBSCNJI...</td>\n",
              "    </tr>\n",
              "    <tr>\n",
              "      <th>66300</th>\n",
              "      <td>Industrial Retail F Closing Speed</td>\n",
              "    </tr>\n",
              "    <tr>\n",
              "      <th>921</th>\n",
              "      <td>Colony Two Instant Cars Track</td>\n",
              "    </tr>\n",
              "    <tr>\n",
              "      <th>78111</th>\n",
              "      <td>Satisfactory Creating 50567371 ( Pole Mate )</td>\n",
              "    </tr>\n",
              "    <tr>\n",
              "      <th>31298</th>\n",
              "      <td>Drew Whip Flood</td>\n",
              "    </tr>\n",
              "    <tr>\n",
              "      <th>7001</th>\n",
              "      <td>Entertaining Skirt Moscow</td>\n",
              "    </tr>\n",
              "    <tr>\n",
              "      <th>52095</th>\n",
              "      <td>Silver Chairmen Coexistence Sylena Nunamaker</td>\n",
              "    </tr>\n",
              "    <tr>\n",
              "      <th>58008</th>\n",
              "      <td>Recognizes Picnic F E Hull S Shalyn ICBPBSCNJI...</td>\n",
              "    </tr>\n",
              "    <tr>\n",
              "      <th>54109</th>\n",
              "      <td>Considerably Speed Compound Coexistence 19:41:...</td>\n",
              "    </tr>\n",
              "    <tr>\n",
              "      <th>64558</th>\n",
              "      <td>Paramagnetic Myia 988</td>\n",
              "    </tr>\n",
              "    <tr>\n",
              "      <th>36382</th>\n",
              "      <td>Physical</td>\n",
              "    </tr>\n",
              "    <tr>\n",
              "      <th>11869</th>\n",
              "      <td>Waking Bar Brings Houses XW Whip Substrate , B...</td>\n",
              "    </tr>\n",
              "    <tr>\n",
              "      <th>12097</th>\n",
              "      <td>Recognizes Picnic F E Hull S Shalyn ICBPBSCNJI...</td>\n",
              "    </tr>\n",
              "    <tr>\n",
              "      <th>34621</th>\n",
              "      <td>Considerably Speed F Gain Camera</td>\n",
              "    </tr>\n",
              "    <tr>\n",
              "      <th>64669</th>\n",
              "      <td>Satisfactory Earnestly Flood F Gain Camera</td>\n",
              "    </tr>\n",
              "    <tr>\n",
              "      <th>14486</th>\n",
              "      <td>Paramagnetic Explosive Ultraviolet</td>\n",
              "    </tr>\n",
              "    <tr>\n",
              "      <th>70524</th>\n",
              "      <td>Entertaining Skirt Moscow</td>\n",
              "    </tr>\n",
              "    <tr>\n",
              "      <th>77796</th>\n",
              "      <td>Criticism Illustration Speed F Retail Camera</td>\n",
              "    </tr>\n",
              "    <tr>\n",
              "      <th>11941</th>\n",
              "      <td>Industrial Retail F Closing Speed</td>\n",
              "    </tr>\n",
              "    <tr>\n",
              "      <th>41542</th>\n",
              "      <td>Physical</td>\n",
              "    </tr>\n",
              "    <tr>\n",
              "      <th>68630</th>\n",
              "      <td>Stranger Pike</td>\n",
              "    </tr>\n",
              "    <tr>\n",
              "      <th>21079</th>\n",
              "      <td>Industrial Retail F Closing Speed</td>\n",
              "    </tr>\n",
              "    <tr>\n",
              "      <th>14282</th>\n",
              "      <td>Recognizes Picnic F E Hull S Shalyn ICBPBSCNJI...</td>\n",
              "    </tr>\n",
              "    <tr>\n",
              "      <th>88078</th>\n",
              "      <td>Conquest Plaster F BJWBHVMTCRLORNM ( Conquest ...</td>\n",
              "    </tr>\n",
              "    <tr>\n",
              "      <th>51105</th>\n",
              "      <td>Satisfactory Carpet Occupational F MBICGPANBVR...</td>\n",
              "    </tr>\n",
              "    <tr>\n",
              "      <th>55950</th>\n",
              "      <td>Consumers Morality Berlin</td>\n",
              "    </tr>\n",
              "    <tr>\n",
              "      <th>37501</th>\n",
              "      <td>Saxon Qualities F 86984325 , Recognizes Bold 473</td>\n",
              "    </tr>\n",
              "    <tr>\n",
              "      <th>88918</th>\n",
              "      <td>Industrial Retail F Closing Speed</td>\n",
              "    </tr>\n",
              "    <tr>\n",
              "      <th>44555</th>\n",
              "      <td>Whip Substrate , Behind Vanished</td>\n",
              "    </tr>\n",
              "    <tr>\n",
              "      <th>88343</th>\n",
              "      <td>Recognizes Picnic F E Hull S Shalyn ICBPBSCNJI...</td>\n",
              "    </tr>\n",
              "    <tr>\n",
              "      <th>28675</th>\n",
              "      <td>Satisfactory Preacher Asserted</td>\n",
              "    </tr>\n",
              "    <tr>\n",
              "      <th>30357</th>\n",
              "      <td>Considerably Speed Compound Coexistence 15:52:...</td>\n",
              "    </tr>\n",
              "    <tr>\n",
              "      <th>17100</th>\n",
              "      <td>Saxon Qualities F 91974238 , Recognizes Bold 473</td>\n",
              "    </tr>\n",
              "    <tr>\n",
              "      <th>31727</th>\n",
              "      <td>Industrial Retail F Closing Speed</td>\n",
              "    </tr>\n",
              "    <tr>\n",
              "      <th>22973</th>\n",
              "      <td>Entertaining Skirt Moscow</td>\n",
              "    </tr>\n",
              "    <tr>\n",
              "      <th>63579</th>\n",
              "      <td>Recognizes Picnic F E Hull S Shalyn ICBPBSCNJI...</td>\n",
              "    </tr>\n",
              "    <tr>\n",
              "      <th>48562</th>\n",
              "      <td>Recognizes Picnic F E Hull S Shalyn ICBPBSCNJI...</td>\n",
              "    </tr>\n",
              "    <tr>\n",
              "      <th>81219</th>\n",
              "      <td>Paramagnetic Explosive Ultraviolet</td>\n",
              "    </tr>\n",
              "    <tr>\n",
              "      <th>22365</th>\n",
              "      <td>Cross Rulers</td>\n",
              "    </tr>\n",
              "    <tr>\n",
              "      <th>76271</th>\n",
              "      <td>Colony Two Onto Cars Track</td>\n",
              "    </tr>\n",
              "    <tr>\n",
              "      <th>68107</th>\n",
              "      <td>Recognizes Picnic F E Hull S Shalyn ICBPBSCNJI...</td>\n",
              "    </tr>\n",
              "  </tbody>\n",
              "</table>\n",
              "</div>"
            ],
            "text/plain": [
              "                                                  screen\n",
              "25730  Recognizes Picnic F E Hull S Shalyn ICBPBSCNJI...\n",
              "86311                 Paramagnetic Explosive Ultraviolet\n",
              "67893                 Paramagnetic Explosive Ultraviolet\n",
              "11087                                    Drew Whip Flood\n",
              "10707  Recognizes Picnic F E Hull S Shalyn ICBPBSCNJI...\n",
              "62206                  Industrial Retail F Closing Speed\n",
              "65557              Satisfactory Creating ( Gain Camera )\n",
              "70431                  Industrial Retail F Closing Speed\n",
              "50203       Criticism Illustration Speed F Retail Camera\n",
              "58142  Recognizes Picnic F E Hull S Shalyn ICBPBSCNJI...\n",
              "66300                  Industrial Retail F Closing Speed\n",
              "921                        Colony Two Instant Cars Track\n",
              "78111       Satisfactory Creating 50567371 ( Pole Mate )\n",
              "31298                                    Drew Whip Flood\n",
              "7001                           Entertaining Skirt Moscow\n",
              "52095       Silver Chairmen Coexistence Sylena Nunamaker\n",
              "58008  Recognizes Picnic F E Hull S Shalyn ICBPBSCNJI...\n",
              "54109  Considerably Speed Compound Coexistence 19:41:...\n",
              "64558                              Paramagnetic Myia 988\n",
              "36382                                           Physical\n",
              "11869  Waking Bar Brings Houses XW Whip Substrate , B...\n",
              "12097  Recognizes Picnic F E Hull S Shalyn ICBPBSCNJI...\n",
              "34621                   Considerably Speed F Gain Camera\n",
              "64669         Satisfactory Earnestly Flood F Gain Camera\n",
              "14486                 Paramagnetic Explosive Ultraviolet\n",
              "70524                          Entertaining Skirt Moscow\n",
              "77796       Criticism Illustration Speed F Retail Camera\n",
              "11941                  Industrial Retail F Closing Speed\n",
              "41542                                           Physical\n",
              "68630                                      Stranger Pike\n",
              "21079                  Industrial Retail F Closing Speed\n",
              "14282  Recognizes Picnic F E Hull S Shalyn ICBPBSCNJI...\n",
              "88078  Conquest Plaster F BJWBHVMTCRLORNM ( Conquest ...\n",
              "51105  Satisfactory Carpet Occupational F MBICGPANBVR...\n",
              "55950                          Consumers Morality Berlin\n",
              "37501   Saxon Qualities F 86984325 , Recognizes Bold 473\n",
              "88918                  Industrial Retail F Closing Speed\n",
              "44555                   Whip Substrate , Behind Vanished\n",
              "88343  Recognizes Picnic F E Hull S Shalyn ICBPBSCNJI...\n",
              "28675                     Satisfactory Preacher Asserted\n",
              "30357  Considerably Speed Compound Coexistence 15:52:...\n",
              "17100   Saxon Qualities F 91974238 , Recognizes Bold 473\n",
              "31727                  Industrial Retail F Closing Speed\n",
              "22973                          Entertaining Skirt Moscow\n",
              "63579  Recognizes Picnic F E Hull S Shalyn ICBPBSCNJI...\n",
              "48562  Recognizes Picnic F E Hull S Shalyn ICBPBSCNJI...\n",
              "81219                 Paramagnetic Explosive Ultraviolet\n",
              "22365                                       Cross Rulers\n",
              "76271                         Colony Two Onto Cars Track\n",
              "68107  Recognizes Picnic F E Hull S Shalyn ICBPBSCNJI..."
            ]
          },
          "metadata": {
            "tags": []
          },
          "execution_count": 97
        }
      ]
    },
    {
      "cell_type": "code",
      "metadata": {
        "id": "0ob9cltmJko4"
      },
      "source": [
        "#save random 50 screens with their titles\r\n",
        "random_df.to_csv('random_fifty_row.csv')"
      ],
      "execution_count": null,
      "outputs": []
    },
    {
      "cell_type": "code",
      "metadata": {
        "id": "rDmpKtEfNumS"
      },
      "source": [
        "#save frequecy data\r\n",
        "asc_frequency_list.to_csv('frequency_list.csv')"
      ],
      "execution_count": null,
      "outputs": []
    },
    {
      "cell_type": "code",
      "metadata": {
        "id": "vyCIz-UcJx9N"
      },
      "source": [
        "#load the frequency data\r\n",
        "data = pd.read_csv('frequency_list.csv') "
      ],
      "execution_count": null,
      "outputs": []
    },
    {
      "cell_type": "code",
      "metadata": {
        "id": "3H4XiB_vLbjo"
      },
      "source": [
        "#add column name frequency\r\n",
        "new_columns = data.columns.values\r\n",
        "new_columns[1] = 'frequency'\r\n",
        "data.columns = new_columns"
      ],
      "execution_count": null,
      "outputs": []
    },
    {
      "cell_type": "code",
      "metadata": {
        "colab": {
          "base_uri": "https://localhost:8080/",
          "height": 402
        },
        "id": "NQgmTfO7OE4o",
        "outputId": "a35dfc41-ff87-4d14-efa4-d02266fc4014"
      },
      "source": [
        "data"
      ],
      "execution_count": null,
      "outputs": [
        {
          "output_type": "execute_result",
          "data": {
            "text/html": [
              "<div>\n",
              "<style scoped>\n",
              "    .dataframe tbody tr th:only-of-type {\n",
              "        vertical-align: middle;\n",
              "    }\n",
              "\n",
              "    .dataframe tbody tr th {\n",
              "        vertical-align: top;\n",
              "    }\n",
              "\n",
              "    .dataframe thead th {\n",
              "        text-align: right;\n",
              "    }\n",
              "</style>\n",
              "<table border=\"1\" class=\"dataframe\">\n",
              "  <thead>\n",
              "    <tr style=\"text-align: right;\">\n",
              "      <th></th>\n",
              "      <th>screen</th>\n",
              "      <th>frequency</th>\n",
              "    </tr>\n",
              "  </thead>\n",
              "  <tbody>\n",
              "    <tr>\n",
              "      <th>0</th>\n",
              "      <td>Recognizes Picnic F E Hull S Shalyn ICBPBSCNJI...</td>\n",
              "      <td>14475</td>\n",
              "    </tr>\n",
              "    <tr>\n",
              "      <th>1</th>\n",
              "      <td>Drew Whip Flood</td>\n",
              "      <td>8434</td>\n",
              "    </tr>\n",
              "    <tr>\n",
              "      <th>2</th>\n",
              "      <td>Industrial Retail F Closing Speed</td>\n",
              "      <td>6373</td>\n",
              "    </tr>\n",
              "    <tr>\n",
              "      <th>3</th>\n",
              "      <td>Paramagnetic Explosive Ultraviolet</td>\n",
              "      <td>5298</td>\n",
              "    </tr>\n",
              "    <tr>\n",
              "      <th>4</th>\n",
              "      <td>Physical</td>\n",
              "      <td>4625</td>\n",
              "    </tr>\n",
              "    <tr>\n",
              "      <th>...</th>\n",
              "      <td>...</td>\n",
              "      <td>...</td>\n",
              "    </tr>\n",
              "    <tr>\n",
              "      <th>1875</th>\n",
              "      <td>Industrial Stereo Zacary . 3256583108 Rights O...</td>\n",
              "      <td>1</td>\n",
              "    </tr>\n",
              "    <tr>\n",
              "      <th>1876</th>\n",
              "      <td>Industrial Stereo Zacary . 3134833815 Rights O...</td>\n",
              "      <td>1</td>\n",
              "    </tr>\n",
              "    <tr>\n",
              "      <th>1877</th>\n",
              "      <td>Industrial Stereo Zacary . 3055888846 Rights O...</td>\n",
              "      <td>1</td>\n",
              "    </tr>\n",
              "    <tr>\n",
              "      <th>1878</th>\n",
              "      <td>Industrial Stereo Zacary . 2690531937 Rights O...</td>\n",
              "      <td>1</td>\n",
              "    </tr>\n",
              "    <tr>\n",
              "      <th>1879</th>\n",
              "      <td>49 Athletic Loses Evil Madison Furniture Dark ...</td>\n",
              "      <td>1</td>\n",
              "    </tr>\n",
              "  </tbody>\n",
              "</table>\n",
              "<p>1880 rows × 2 columns</p>\n",
              "</div>"
            ],
            "text/plain": [
              "                                                 screen  frequency\n",
              "0     Recognizes Picnic F E Hull S Shalyn ICBPBSCNJI...      14475\n",
              "1                                       Drew Whip Flood       8434\n",
              "2                     Industrial Retail F Closing Speed       6373\n",
              "3                    Paramagnetic Explosive Ultraviolet       5298\n",
              "4                                              Physical       4625\n",
              "...                                                 ...        ...\n",
              "1875  Industrial Stereo Zacary . 3256583108 Rights O...          1\n",
              "1876  Industrial Stereo Zacary . 3134833815 Rights O...          1\n",
              "1877  Industrial Stereo Zacary . 3055888846 Rights O...          1\n",
              "1878  Industrial Stereo Zacary . 2690531937 Rights O...          1\n",
              "1879  49 Athletic Loses Evil Madison Furniture Dark ...          1\n",
              "\n",
              "[1880 rows x 2 columns]"
            ]
          },
          "metadata": {
            "tags": []
          },
          "execution_count": 102
        }
      ]
    },
    {
      "cell_type": "code",
      "metadata": {
        "id": "cpDW4sA3OGCm"
      },
      "source": [
        "import matplotlib.pyplot as plt\r\n",
        "%matplotlib inline"
      ],
      "execution_count": null,
      "outputs": []
    },
    {
      "cell_type": "code",
      "metadata": {
        "colab": {
          "base_uri": "https://localhost:8080/",
          "height": 669
        },
        "id": "56J2_TmCOrM_",
        "outputId": "e0c5758b-b922-486a-8cba-3e4aca5c2be4"
      },
      "source": [
        "#plot bar graph to find out the frequecncy of the screens\r\n",
        "dataset = data.head(20)\r\n",
        "dataset.plot(x = \"screen\", y = \"frequency\", kind = \"bar\")\r\n",
        "plt.show()"
      ],
      "execution_count": null,
      "outputs": [
        {
          "output_type": "display_data",
          "data": {
            "image/png": "[encoded data removed]",
            "text/plain": [
              "<Figure size 432x288 with 1 Axes>"
            ]
          },
          "metadata": {
            "tags": [],
            "needs_background": "light"
          }
        }
      ]
    },
    {
      "cell_type": "code",
      "metadata": {
        "id": "kZXyqNRbO0pt"
      },
      "source": [
        "# storing the screens into an array\r\n",
        "col_one_arr = unpickled_df['screen'].head(20).to_numpy()"
      ],
      "execution_count": null,
      "outputs": []
    },
    {
      "cell_type": "code",
      "metadata": {
        "colab": {
          "base_uri": "https://localhost:8080/"
        },
        "id": "i6jEBFt3RE4z",
        "outputId": "59ed3928-56d6-46c9-f2c7-37da6901e6a7"
      },
      "source": [
        "#print the array\r\n",
        "col_one_arr"
      ],
      "execution_count": null,
      "outputs": [
        {
          "output_type": "execute_result",
          "data": {
            "text/plain": [
              "array(['Paramagnetic Myia 988', 'Paramagnetic AOJ Brings Fantasy 988',\n",
              "       'Paramagnetic Myia 988', 'Paramagnetic Explosive Ultraviolet',\n",
              "       'Paramagnetic Explosive Ultraviolet',\n",
              "       'Paramagnetic Explosive Ultraviolet',\n",
              "       'Paramagnetic Explosive Ultraviolet',\n",
              "       'Paramagnetic Explosive Ultraviolet',\n",
              "       'Paramagnetic Explosive Ultraviolet',\n",
              "       'Intentions Feathers Whip Flood A Addy Distinguished',\n",
              "       'Intentions Feathers Whip Flood A Addy Distinguished',\n",
              "       'Intentions Feathers Whip Flood A Addy Distinguished',\n",
              "       'Paramagnetic Explosive Ultraviolet',\n",
              "       'Paramagnetic Explosive Ultraviolet',\n",
              "       'Somebody Humor 4833440269 Rights Onto Addy Distinguished',\n",
              "       'Somebody Humor 4833440269 Rights Onto Addy Distinguished',\n",
              "       'Intentions Feathers Whip Flood A Addy Distinguished', 'Physical',\n",
              "       'Physical', 'Physical'], dtype=object)"
            ]
          },
          "metadata": {
            "tags": []
          },
          "execution_count": 109
        }
      ]
    },
    {
      "cell_type": "code",
      "metadata": {
        "colab": {
          "base_uri": "https://localhost:8080/",
          "height": 265
        },
        "id": "6RxKa6RDRIdp",
        "outputId": "d30d1174-0941-45a5-a105-24701c18da5b"
      },
      "source": [
        "plt.hist(col_one_arr) #gives you a histogram of your array 'screen'\r\n",
        "plt.show() #finishes out the plot"
      ],
      "execution_count": null,
      "outputs": [
        {
          "output_type": "display_data",
          "data": {
            "image/png": "[encoded data removed]",
            "text/plain": [
              "<Figure size 432x288 with 1 Axes>"
            ]
          },
          "metadata": {
            "tags": [],
            "needs_background": "light"
          }
        }
      ]
    }
  ]
}